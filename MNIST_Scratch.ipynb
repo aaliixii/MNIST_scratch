{
 "cells": [
  {
   "cell_type": "markdown",
   "id": "22945648",
   "metadata": {},
   "source": [
    "# Neural Network by scratch"
   ]
  },
  {
   "cell_type": "markdown",
   "id": "f541064a",
   "metadata": {},
   "source": [
    "### Importing Numpy and Pandas "
   ]
  },
  {
   "cell_type": "code",
   "execution_count": 1,
   "id": "2bb1eb51",
   "metadata": {},
   "outputs": [],
   "source": [
    "import numpy as np\n",
    "import pandas as pd"
   ]
  },
  {
   "cell_type": "markdown",
   "id": "ea795329",
   "metadata": {},
   "source": [
    "### Loading the Dataset as a Pandas Dataframe"
   ]
  },
  {
   "cell_type": "code",
   "execution_count": 2,
   "id": "27b9f880",
   "metadata": {},
   "outputs": [
    {
     "data": {
      "text/html": [
       "<div>\n",
       "<style scoped>\n",
       "    .dataframe tbody tr th:only-of-type {\n",
       "        vertical-align: middle;\n",
       "    }\n",
       "\n",
       "    .dataframe tbody tr th {\n",
       "        vertical-align: top;\n",
       "    }\n",
       "\n",
       "    .dataframe thead th {\n",
       "        text-align: right;\n",
       "    }\n",
       "</style>\n",
       "<table border=\"1\" class=\"dataframe\">\n",
       "  <thead>\n",
       "    <tr style=\"text-align: right;\">\n",
       "      <th></th>\n",
       "      <th>label</th>\n",
       "      <th>pixel0</th>\n",
       "      <th>pixel1</th>\n",
       "      <th>pixel2</th>\n",
       "      <th>pixel3</th>\n",
       "      <th>pixel4</th>\n",
       "      <th>pixel5</th>\n",
       "      <th>pixel6</th>\n",
       "      <th>pixel7</th>\n",
       "      <th>pixel8</th>\n",
       "      <th>...</th>\n",
       "      <th>pixel774</th>\n",
       "      <th>pixel775</th>\n",
       "      <th>pixel776</th>\n",
       "      <th>pixel777</th>\n",
       "      <th>pixel778</th>\n",
       "      <th>pixel779</th>\n",
       "      <th>pixel780</th>\n",
       "      <th>pixel781</th>\n",
       "      <th>pixel782</th>\n",
       "      <th>pixel783</th>\n",
       "    </tr>\n",
       "  </thead>\n",
       "  <tbody>\n",
       "    <tr>\n",
       "      <th>0</th>\n",
       "      <td>1</td>\n",
       "      <td>0</td>\n",
       "      <td>0</td>\n",
       "      <td>0</td>\n",
       "      <td>0</td>\n",
       "      <td>0</td>\n",
       "      <td>0</td>\n",
       "      <td>0</td>\n",
       "      <td>0</td>\n",
       "      <td>0</td>\n",
       "      <td>...</td>\n",
       "      <td>0</td>\n",
       "      <td>0</td>\n",
       "      <td>0</td>\n",
       "      <td>0</td>\n",
       "      <td>0</td>\n",
       "      <td>0</td>\n",
       "      <td>0</td>\n",
       "      <td>0</td>\n",
       "      <td>0</td>\n",
       "      <td>0</td>\n",
       "    </tr>\n",
       "    <tr>\n",
       "      <th>1</th>\n",
       "      <td>0</td>\n",
       "      <td>0</td>\n",
       "      <td>0</td>\n",
       "      <td>0</td>\n",
       "      <td>0</td>\n",
       "      <td>0</td>\n",
       "      <td>0</td>\n",
       "      <td>0</td>\n",
       "      <td>0</td>\n",
       "      <td>0</td>\n",
       "      <td>...</td>\n",
       "      <td>0</td>\n",
       "      <td>0</td>\n",
       "      <td>0</td>\n",
       "      <td>0</td>\n",
       "      <td>0</td>\n",
       "      <td>0</td>\n",
       "      <td>0</td>\n",
       "      <td>0</td>\n",
       "      <td>0</td>\n",
       "      <td>0</td>\n",
       "    </tr>\n",
       "    <tr>\n",
       "      <th>2</th>\n",
       "      <td>1</td>\n",
       "      <td>0</td>\n",
       "      <td>0</td>\n",
       "      <td>0</td>\n",
       "      <td>0</td>\n",
       "      <td>0</td>\n",
       "      <td>0</td>\n",
       "      <td>0</td>\n",
       "      <td>0</td>\n",
       "      <td>0</td>\n",
       "      <td>...</td>\n",
       "      <td>0</td>\n",
       "      <td>0</td>\n",
       "      <td>0</td>\n",
       "      <td>0</td>\n",
       "      <td>0</td>\n",
       "      <td>0</td>\n",
       "      <td>0</td>\n",
       "      <td>0</td>\n",
       "      <td>0</td>\n",
       "      <td>0</td>\n",
       "    </tr>\n",
       "    <tr>\n",
       "      <th>3</th>\n",
       "      <td>4</td>\n",
       "      <td>0</td>\n",
       "      <td>0</td>\n",
       "      <td>0</td>\n",
       "      <td>0</td>\n",
       "      <td>0</td>\n",
       "      <td>0</td>\n",
       "      <td>0</td>\n",
       "      <td>0</td>\n",
       "      <td>0</td>\n",
       "      <td>...</td>\n",
       "      <td>0</td>\n",
       "      <td>0</td>\n",
       "      <td>0</td>\n",
       "      <td>0</td>\n",
       "      <td>0</td>\n",
       "      <td>0</td>\n",
       "      <td>0</td>\n",
       "      <td>0</td>\n",
       "      <td>0</td>\n",
       "      <td>0</td>\n",
       "    </tr>\n",
       "    <tr>\n",
       "      <th>4</th>\n",
       "      <td>0</td>\n",
       "      <td>0</td>\n",
       "      <td>0</td>\n",
       "      <td>0</td>\n",
       "      <td>0</td>\n",
       "      <td>0</td>\n",
       "      <td>0</td>\n",
       "      <td>0</td>\n",
       "      <td>0</td>\n",
       "      <td>0</td>\n",
       "      <td>...</td>\n",
       "      <td>0</td>\n",
       "      <td>0</td>\n",
       "      <td>0</td>\n",
       "      <td>0</td>\n",
       "      <td>0</td>\n",
       "      <td>0</td>\n",
       "      <td>0</td>\n",
       "      <td>0</td>\n",
       "      <td>0</td>\n",
       "      <td>0</td>\n",
       "    </tr>\n",
       "  </tbody>\n",
       "</table>\n",
       "<p>5 rows × 785 columns</p>\n",
       "</div>"
      ],
      "text/plain": [
       "   label  pixel0  pixel1  pixel2  pixel3  pixel4  pixel5  pixel6  pixel7  \\\n",
       "0      1       0       0       0       0       0       0       0       0   \n",
       "1      0       0       0       0       0       0       0       0       0   \n",
       "2      1       0       0       0       0       0       0       0       0   \n",
       "3      4       0       0       0       0       0       0       0       0   \n",
       "4      0       0       0       0       0       0       0       0       0   \n",
       "\n",
       "   pixel8  ...  pixel774  pixel775  pixel776  pixel777  pixel778  pixel779  \\\n",
       "0       0  ...         0         0         0         0         0         0   \n",
       "1       0  ...         0         0         0         0         0         0   \n",
       "2       0  ...         0         0         0         0         0         0   \n",
       "3       0  ...         0         0         0         0         0         0   \n",
       "4       0  ...         0         0         0         0         0         0   \n",
       "\n",
       "   pixel780  pixel781  pixel782  pixel783  \n",
       "0         0         0         0         0  \n",
       "1         0         0         0         0  \n",
       "2         0         0         0         0  \n",
       "3         0         0         0         0  \n",
       "4         0         0         0         0  \n",
       "\n",
       "[5 rows x 785 columns]"
      ]
     },
     "execution_count": 2,
     "metadata": {},
     "output_type": "execute_result"
    }
   ],
   "source": [
    "data = pd.read_csv('train.csv')\n",
    "data.head(5)"
   ]
  },
  {
   "cell_type": "markdown",
   "id": "c208e5fa",
   "metadata": {},
   "source": [
    "### Train and Validation set split\n",
    "We need to first convert the dataframe into a numpy array and transpose it"
   ]
  },
  {
   "cell_type": "code",
   "execution_count": 3,
   "id": "048fb406",
   "metadata": {},
   "outputs": [
    {
     "name": "stdout",
     "output_type": "stream",
     "text": [
      "data.shape = (42000, 785)\n",
      "\n",
      "X_train.shape = (784, 41000)\n",
      "Y_train.shape = (41000,)\n"
     ]
    }
   ],
   "source": [
    "data = np.array(data)\n",
    "m , n = data.shape\n",
    "print(f'data.shape = {m,n}\\n')\n",
    "np.random.shuffle(data)\n",
    "\n",
    "data_dev = data[0:1000].T\n",
    "Y_dev = data_dev[0]\n",
    "X_dev = data_dev[1:1000]\n",
    "\n",
    "data_train = data[1000:m].T\n",
    "Y_train = data_train[0]\n",
    "X_train = data_train[1:m]\n",
    "\n",
    "X_train = X_train / 255\n",
    "print(f'X_train.shape = {X_train.shape}')\n",
    "print(f'Y_train.shape = {Y_train.shape}')"
   ]
  },
  {
   "cell_type": "code",
   "execution_count": 4,
   "id": "6cb59bf7",
   "metadata": {},
   "outputs": [
    {
     "name": "stdout",
     "output_type": "stream",
     "text": [
      "X_dev.shape = (784, 1000)\n",
      "Y_dev.shape = (1000,)\n"
     ]
    }
   ],
   "source": [
    "print(f'X_dev.shape = {X_dev.shape}')\n",
    "print(f'Y_dev.shape = {Y_dev.shape}')"
   ]
  },
  {
   "cell_type": "markdown",
   "id": "3dc7dcac",
   "metadata": {},
   "source": [
    "### Initializing Parameters"
   ]
  },
  {
   "cell_type": "code",
   "execution_count": 5,
   "id": "8fbf58a1",
   "metadata": {},
   "outputs": [],
   "source": [
    "def init_params():\n",
    "\n",
    "    W1 = np.random.rand(10,784) - 0.5\n",
    "    b1 = np.random.rand(10,1) - 0.5\n",
    "    \n",
    "    W2 = np.random.rand(10,10) - 0.5\n",
    "    b2 = np.random.rand(10,1) - 0.5\n",
    "    \n",
    "    return W1, b1, W2, b2"
   ]
  },
  {
   "cell_type": "markdown",
   "id": "8dacd3ab",
   "metadata": {},
   "source": [
    "### ReLu Function"
   ]
  },
  {
   "cell_type": "code",
   "execution_count": 6,
   "id": "45fcca7d",
   "metadata": {},
   "outputs": [],
   "source": [
    "def ReLu(Z):\n",
    "    return np.maximum(Z,0)"
   ]
  },
  {
   "cell_type": "markdown",
   "id": "da311ebd",
   "metadata": {},
   "source": [
    "### Softmax Function"
   ]
  },
  {
   "cell_type": "code",
   "execution_count": 7,
   "id": "b388d1f3",
   "metadata": {},
   "outputs": [],
   "source": [
    "def softmax(Z):\n",
    "    return np.exp(Z)/sum(np.exp(Z))"
   ]
  },
  {
   "cell_type": "markdown",
   "id": "e578de40",
   "metadata": {},
   "source": [
    "### Forward Propagation"
   ]
  },
  {
   "cell_type": "code",
   "execution_count": 8,
   "id": "ecbe8997",
   "metadata": {},
   "outputs": [],
   "source": [
    "def forward_prop(W1, b1, W2, b2, X):\n",
    "    \n",
    "    Z1 = W1.dot(X) + b1\n",
    "    A1 = ReLu(Z1)\n",
    "    \n",
    "    Z2 = W2.dot(A1) + b2\n",
    "    A2 = softmax(Z2)\n",
    "    \n",
    "    return Z1, A1, Z2, A2"
   ]
  },
  {
   "cell_type": "markdown",
   "id": "c2b98bc9",
   "metadata": {},
   "source": [
    "### Derivative of ReLu"
   ]
  },
  {
   "cell_type": "code",
   "execution_count": 9,
   "id": "95a8940c",
   "metadata": {},
   "outputs": [],
   "source": [
    "def deriv_relu(Z):\n",
    "    return Z>0"
   ]
  },
  {
   "cell_type": "markdown",
   "id": "f6dd97d5",
   "metadata": {},
   "source": [
    "### One Hot Encoder Function"
   ]
  },
  {
   "cell_type": "code",
   "execution_count": 10,
   "id": "917626b9",
   "metadata": {},
   "outputs": [],
   "source": [
    "def one_hot(Y):\n",
    "    \n",
    "    one_hot_Y = np.zeros((Y.size, Y.max() + 1))\n",
    "    one_hot_Y[np.arange(Y.size), Y] = 1\n",
    "    one_hot_Y = one_hot_Y.T\n",
    "    \n",
    "    return one_hot_Y"
   ]
  },
  {
   "cell_type": "markdown",
   "id": "218b7fb3",
   "metadata": {},
   "source": [
    "### Backward Propagation"
   ]
  },
  {
   "cell_type": "code",
   "execution_count": 11,
   "id": "c35f680a",
   "metadata": {},
   "outputs": [],
   "source": [
    "def back_prop(Z1, A1, Z2, A2, W2, X, Y):\n",
    "\n",
    "    m = Y.shape[0]\n",
    "    \n",
    "    dZ2 = A2 - one_hot(Y)\n",
    "    dW2 = 1 / m * dZ2.dot(A1.T)\n",
    "    db2 = 1 / m * sum(dZ2)\n",
    "    \n",
    "    dZ1 = W2.T.dot(dZ2) * deriv_relu(Z1)\n",
    "    dW1 = 1 / m * dZ1.dot(X.T)\n",
    "    db1 = 1 / m * sum(dZ1)\n",
    "    \n",
    "    return dW1, db1, dW2, db2"
   ]
  },
  {
   "cell_type": "markdown",
   "id": "bd000d45",
   "metadata": {},
   "source": [
    "### Update Parameters"
   ]
  },
  {
   "cell_type": "code",
   "execution_count": 12,
   "id": "527dc2ea",
   "metadata": {},
   "outputs": [],
   "source": [
    "def update_params(W1, b1, W2, b2, dW1, db1, dW2, db2, alpha):\n",
    "\n",
    "    W1 = W1 - alpha * dW1\n",
    "    b1 = b1 - alpha * db1\n",
    "    W2 = W2 - alpha * dW2\n",
    "    b2 = b2 - alpha * db2\n",
    "    \n",
    "    return W1, b1, W2, b2"
   ]
  },
  {
   "cell_type": "markdown",
   "id": "7ca6f591",
   "metadata": {},
   "source": [
    "### Prediction and Accuracy functions"
   ]
  },
  {
   "cell_type": "code",
   "execution_count": 54,
   "id": "e83bdc01",
   "metadata": {},
   "outputs": [],
   "source": [
    "def make_prediction(A2):\n",
    "    return np.argmax(A2, 0)\n",
    "\n",
    "def get_accuracy(Y_hat, Y):\n",
    "#     print(Y_hat, Y)\n",
    "    return np.sum(Y_hat==Y)/Y.size"
   ]
  },
  {
   "cell_type": "markdown",
   "id": "e0af88d8",
   "metadata": {},
   "source": [
    "### Training Function"
   ]
  },
  {
   "cell_type": "code",
   "execution_count": 59,
   "id": "445b2b5e",
   "metadata": {},
   "outputs": [],
   "source": [
    "def train(X, Y, iterations, alpha,):\n",
    "    \n",
    "    W1, b1, W2, b2 = init_params()\n",
    "    \n",
    "    acc = []\n",
    "    for i in range(iterations+1):\n",
    "        Z1, A1, Z2, A2 = forward_prop(W1, b1, W2, b2, X)\n",
    "        dW1, db1, dW2, db2 = back_prop(Z1, A1, Z2, A2, W2, X, Y)\n",
    "        W1, b1, W2, b2 = update_params(W1, b1, W2, b2, dW1, db1, dW2, db2, alpha)\n",
    "        \n",
    "        if (i%10 == 0):\n",
    "            \n",
    "            a = get_accuracy(make_prediction(A2),Y)\n",
    "            acc.append(a)\n",
    "            \n",
    "#             print(f'Iteration: {i}')\n",
    "#             print(f'Accuracy: {a}')\n",
    "            \n",
    "    print(f'LR: {alpha}')\n",
    "    print(f'Max accuracy: {max(acc)}\\n')\n",
    "    \n",
    "    return W1, b1, W2, b2, acc"
   ]
  },
  {
   "cell_type": "markdown",
   "id": "c298da13",
   "metadata": {},
   "source": [
    "### LR Tuning"
   ]
  },
  {
   "cell_type": "code",
   "execution_count": null,
   "id": "560ebda0",
   "metadata": {},
   "outputs": [],
   "source": [
    "def LR_train(X, Y, iterations, alpha,):\n",
    "    \n",
    "    W1, b1, W2, b2 = init_params()\n",
    "    \n",
    "    acc = []\n",
    "    for i in range(iterations+1):\n",
    "        Z1, A1, Z2, A2 = forward_prop(W1, b1, W2, b2, X)\n",
    "        dW1, db1, dW2, db2 = back_prop(Z1, A1, Z2, A2, W2, X, Y)\n",
    "        W1, b1, W2, b2 = update_params(W1, b1, W2, b2, dW1, db1, dW2, db2, alpha)\n",
    "        \n",
    "        if (i%10 == 0):\n",
    "            \n",
    "            a = get_accuracy(make_prediction(A2),Y)\n",
    "            acc.append(a)\n",
    "\n",
    "    print(f'LR: {alpha}')\n",
    "    print(f'Max accuracy: {max(acc)}\\n')\n",
    "    \n",
    "    return acc"
   ]
  },
  {
   "cell_type": "code",
   "execution_count": 62,
   "id": "11b8e925",
   "metadata": {},
   "outputs": [],
   "source": [
    "def LR_tuning(a1, a2):\n",
    "    lr = dict()\n",
    "    \n",
    "    for i in np.arange(a1, a2, 0.01):\n",
    "        \n",
    "        acc = LR_train(X_train, Y_train, 500, i)\n",
    "        lr[i] = max(acc)\n",
    "        \n",
    "    return max(lr, key= lambda x: lr[x]) "
   ]
  },
  {
   "cell_type": "code",
   "execution_count": 65,
   "id": "3d19e9ba",
   "metadata": {},
   "outputs": [
    {
     "name": "stdout",
     "output_type": "stream",
     "text": [
      "LR: 0.17\n",
      "Max accuracy: 0.8753414634146341\n",
      "\n",
      "LR: 0.18000000000000002\n",
      "Max accuracy: 0.8812926829268293\n",
      "\n",
      "LR: 0.19000000000000003\n",
      "Max accuracy: 0.8831463414634146\n",
      "\n",
      "LR: 0.20000000000000004\n",
      "Max accuracy: 0.8832439024390244\n",
      "\n",
      "LR: 0.21000000000000005\n",
      "Max accuracy: 0.8832439024390244\n",
      "\n",
      "LR: 0.22000000000000006\n",
      "Max accuracy: 0.8816829268292683\n",
      "\n",
      "LR: 0.23000000000000007\n",
      "Max accuracy: 0.8831951219512195\n",
      "\n",
      "Best Learning Rate: 0.20000000000000004\n"
     ]
    }
   ],
   "source": [
    "print(f'Best Learning Rate: {LR_tuning(0.17,0.24)}')"
   ]
  },
  {
   "cell_type": "code",
   "execution_count": 29,
   "id": "576b65b6",
   "metadata": {
    "scrolled": true
   },
   "outputs": [
    {
     "name": "stdout",
     "output_type": "stream",
     "text": [
      "[4 7 7 ... 4 7 9] [9 8 3 ... 5 8 7]\n",
      "Iteration: 0\n",
      "Accuracy: 0.11509756097560976\n",
      "[4 8 2 ... 7 7 9] [9 8 3 ... 5 8 7]\n",
      "Iteration: 10\n",
      "Accuracy: 0.26482926829268294\n",
      "[7 8 2 ... 7 8 9] [9 8 3 ... 5 8 7]\n",
      "Iteration: 20\n",
      "Accuracy: 0.39234146341463416\n",
      "[7 8 3 ... 7 8 7] [9 8 3 ... 5 8 7]\n",
      "Iteration: 30\n",
      "Accuracy: 0.47136585365853656\n",
      "[7 8 3 ... 7 8 7] [9 8 3 ... 5 8 7]\n",
      "Iteration: 40\n",
      "Accuracy: 0.5320731707317073\n",
      "[7 8 3 ... 7 8 7] [9 8 3 ... 5 8 7]\n",
      "Iteration: 50\n",
      "Accuracy: 0.5941951219512195\n",
      "[9 8 3 ... 7 8 7] [9 8 3 ... 5 8 7]\n",
      "Iteration: 60\n",
      "Accuracy: 0.6775609756097561\n",
      "[9 8 3 ... 7 8 7] [9 8 3 ... 5 8 7]\n",
      "Iteration: 70\n",
      "Accuracy: 0.7204634146341463\n",
      "[9 8 3 ... 7 8 7] [9 8 3 ... 5 8 7]\n",
      "Iteration: 80\n",
      "Accuracy: 0.745609756097561\n",
      "[9 8 3 ... 7 8 7] [9 8 3 ... 5 8 7]\n",
      "Iteration: 90\n",
      "Accuracy: 0.7638780487804878\n",
      "[9 8 3 ... 7 8 7] [9 8 3 ... 5 8 7]\n",
      "Iteration: 100\n",
      "Accuracy: 0.779219512195122\n",
      "[9 8 3 ... 7 8 7] [9 8 3 ... 5 8 7]\n",
      "Iteration: 110\n",
      "Accuracy: 0.791219512195122\n",
      "[9 8 3 ... 7 8 7] [9 8 3 ... 5 8 7]\n",
      "Iteration: 120\n",
      "Accuracy: 0.8007804878048781\n",
      "[9 8 3 ... 7 8 7] [9 8 3 ... 5 8 7]\n",
      "Iteration: 130\n",
      "Accuracy: 0.808829268292683\n",
      "[9 8 3 ... 7 8 7] [9 8 3 ... 5 8 7]\n",
      "Iteration: 140\n",
      "Accuracy: 0.8164878048780487\n",
      "[9 8 3 ... 7 8 7] [9 8 3 ... 5 8 7]\n",
      "Iteration: 150\n",
      "Accuracy: 0.8226585365853658\n",
      "[9 8 3 ... 7 8 7] [9 8 3 ... 5 8 7]\n",
      "Iteration: 160\n",
      "Accuracy: 0.8275853658536585\n",
      "[9 8 3 ... 7 8 7] [9 8 3 ... 5 8 7]\n",
      "Iteration: 170\n",
      "Accuracy: 0.8332439024390244\n",
      "[9 8 3 ... 7 8 7] [9 8 3 ... 5 8 7]\n",
      "Iteration: 180\n",
      "Accuracy: 0.8373170731707317\n",
      "[7 8 3 ... 7 8 7] [9 8 3 ... 5 8 7]\n",
      "Iteration: 190\n",
      "Accuracy: 0.7944878048780488\n",
      "[9 8 3 ... 7 8 7] [9 8 3 ... 5 8 7]\n",
      "Iteration: 200\n",
      "Accuracy: 0.8310731707317073\n",
      "[9 8 3 ... 7 8 7] [9 8 3 ... 5 8 7]\n",
      "Iteration: 210\n",
      "Accuracy: 0.8484878048780488\n",
      "[9 8 3 ... 7 8 7] [9 8 3 ... 5 8 7]\n",
      "Iteration: 220\n",
      "Accuracy: 0.8512926829268292\n",
      "[9 8 3 ... 7 8 7] [9 8 3 ... 5 8 7]\n",
      "Iteration: 230\n",
      "Accuracy: 0.8542195121951219\n",
      "[9 8 3 ... 7 8 7] [9 8 3 ... 5 8 7]\n",
      "Iteration: 240\n",
      "Accuracy: 0.8564878048780488\n",
      "[9 8 3 ... 7 8 7] [9 8 3 ... 5 8 7]\n",
      "Iteration: 250\n",
      "Accuracy: 0.8590243902439024\n",
      "[9 8 3 ... 7 8 7] [9 8 3 ... 5 8 7]\n",
      "Iteration: 260\n",
      "Accuracy: 0.8612439024390244\n",
      "[9 8 3 ... 7 8 7] [9 8 3 ... 5 8 7]\n",
      "Iteration: 270\n",
      "Accuracy: 0.8629024390243902\n",
      "[9 8 3 ... 7 8 7] [9 8 3 ... 5 8 7]\n",
      "Iteration: 280\n",
      "Accuracy: 0.8645609756097561\n",
      "[9 8 3 ... 7 8 7] [9 8 3 ... 5 8 7]\n",
      "Iteration: 290\n",
      "Accuracy: 0.8647317073170732\n",
      "[9 8 3 ... 7 8 7] [9 8 3 ... 5 8 7]\n",
      "Iteration: 300\n",
      "Accuracy: 0.8612682926829268\n",
      "[9 8 3 ... 7 8 7] [9 8 3 ... 5 8 7]\n",
      "Iteration: 310\n",
      "Accuracy: 0.8589024390243902\n",
      "[9 8 3 ... 7 8 7] [9 8 3 ... 5 8 7]\n",
      "Iteration: 320\n",
      "Accuracy: 0.8678292682926829\n",
      "[9 8 3 ... 7 8 7] [9 8 3 ... 5 8 7]\n",
      "Iteration: 330\n",
      "Accuracy: 0.8723414634146341\n",
      "[9 8 3 ... 7 8 7] [9 8 3 ... 5 8 7]\n",
      "Iteration: 340\n",
      "Accuracy: 0.874390243902439\n",
      "[9 8 3 ... 7 8 7] [9 8 3 ... 5 8 7]\n",
      "Iteration: 350\n",
      "Accuracy: 0.875390243902439\n",
      "[9 8 3 ... 7 8 7] [9 8 3 ... 5 8 7]\n",
      "Iteration: 360\n",
      "Accuracy: 0.8764146341463415\n",
      "[9 8 3 ... 7 8 7] [9 8 3 ... 5 8 7]\n",
      "Iteration: 370\n",
      "Accuracy: 0.8777560975609756\n",
      "[9 8 3 ... 7 8 7] [9 8 3 ... 5 8 7]\n",
      "Iteration: 380\n",
      "Accuracy: 0.879\n",
      "[9 8 3 ... 7 8 7] [9 8 3 ... 5 8 7]\n",
      "Iteration: 390\n",
      "Accuracy: 0.8799512195121951\n",
      "[9 8 3 ... 7 8 7] [9 8 3 ... 5 8 7]\n",
      "Iteration: 400\n",
      "Accuracy: 0.881\n",
      "[9 8 3 ... 7 8 7] [9 8 3 ... 5 8 7]\n",
      "Iteration: 410\n",
      "Accuracy: 0.8819756097560976\n",
      "[9 8 3 ... 7 8 7] [9 8 3 ... 5 8 7]\n",
      "Iteration: 420\n",
      "Accuracy: 0.8827317073170732\n",
      "[9 8 3 ... 7 8 7] [9 8 3 ... 5 8 7]\n",
      "Iteration: 430\n",
      "Accuracy: 0.883609756097561\n",
      "[9 8 3 ... 7 8 7] [9 8 3 ... 5 8 7]\n",
      "Iteration: 440\n",
      "Accuracy: 0.8842439024390244\n",
      "[9 8 3 ... 7 8 7] [9 8 3 ... 5 8 7]\n",
      "Iteration: 450\n",
      "Accuracy: 0.8848536585365854\n",
      "[9 8 3 ... 7 8 7] [9 8 3 ... 5 8 7]\n",
      "Iteration: 460\n",
      "Accuracy: 0.8847804878048781\n",
      "[9 8 3 ... 7 8 7] [9 8 3 ... 5 8 7]\n",
      "Iteration: 470\n",
      "Accuracy: 0.8840975609756098\n",
      "[9 8 3 ... 7 8 7] [9 8 3 ... 5 8 7]\n",
      "Iteration: 480\n",
      "Accuracy: 0.8840975609756098\n",
      "[9 8 3 ... 7 8 7] [9 8 3 ... 5 8 7]\n",
      "Iteration: 490\n",
      "Accuracy: 0.8854146341463415\n",
      "[9 8 3 ... 7 8 7] [9 8 3 ... 5 8 7]\n",
      "Iteration: 500\n",
      "Accuracy: 0.8877317073170732\n",
      "[9 8 3 ... 7 8 7] [9 8 3 ... 5 8 7]\n",
      "Iteration: 510\n",
      "Accuracy: 0.8894390243902439\n",
      "[9 8 3 ... 7 8 7] [9 8 3 ... 5 8 7]\n",
      "Iteration: 520\n",
      "Accuracy: 0.8902682926829268\n",
      "[9 8 3 ... 7 8 7] [9 8 3 ... 5 8 7]\n",
      "Iteration: 530\n",
      "Accuracy: 0.8910731707317073\n",
      "[9 8 3 ... 7 8 7] [9 8 3 ... 5 8 7]\n",
      "Iteration: 540\n",
      "Accuracy: 0.8916341463414634\n",
      "[9 8 3 ... 7 8 7] [9 8 3 ... 5 8 7]\n",
      "Iteration: 550\n",
      "Accuracy: 0.8923658536585366\n",
      "[9 8 3 ... 7 8 7] [9 8 3 ... 5 8 7]\n",
      "Iteration: 560\n",
      "Accuracy: 0.893219512195122\n",
      "[9 8 3 ... 7 8 7] [9 8 3 ... 5 8 7]\n",
      "Iteration: 570\n",
      "Accuracy: 0.8940487804878049\n",
      "[9 8 3 ... 7 8 7] [9 8 3 ... 5 8 7]\n",
      "Iteration: 580\n",
      "Accuracy: 0.8946585365853659\n",
      "[9 8 3 ... 7 8 7] [9 8 3 ... 5 8 7]\n",
      "Iteration: 590\n",
      "Accuracy: 0.8950731707317073\n",
      "[9 8 3 ... 7 8 7] [9 8 3 ... 5 8 7]\n",
      "Iteration: 600\n",
      "Accuracy: 0.8954878048780488\n",
      "[9 8 3 ... 7 8 7] [9 8 3 ... 5 8 7]\n",
      "Iteration: 610\n",
      "Accuracy: 0.8959512195121951\n",
      "[9 8 3 ... 7 8 7] [9 8 3 ... 5 8 7]\n",
      "Iteration: 620\n",
      "Accuracy: 0.896390243902439\n",
      "[9 8 3 ... 7 8 7] [9 8 3 ... 5 8 7]\n",
      "Iteration: 630\n",
      "Accuracy: 0.8968536585365854\n",
      "[9 8 3 ... 7 8 7] [9 8 3 ... 5 8 7]\n",
      "Iteration: 640\n",
      "Accuracy: 0.8972926829268293\n",
      "[9 8 3 ... 7 8 7] [9 8 3 ... 5 8 7]\n",
      "Iteration: 650\n",
      "Accuracy: 0.897829268292683\n",
      "[9 8 3 ... 7 8 7] [9 8 3 ... 5 8 7]\n",
      "Iteration: 660\n",
      "Accuracy: 0.8980243902439025\n",
      "[9 8 3 ... 7 8 7] [9 8 3 ... 5 8 7]\n",
      "Iteration: 670\n",
      "Accuracy: 0.8985609756097561\n",
      "[9 8 3 ... 7 8 7] [9 8 3 ... 5 8 7]\n",
      "Iteration: 680\n",
      "Accuracy: 0.899219512195122\n",
      "[9 8 3 ... 7 8 7] [9 8 3 ... 5 8 7]\n",
      "Iteration: 690\n",
      "Accuracy: 0.8994878048780488\n",
      "[9 8 3 ... 7 8 7] [9 8 3 ... 5 8 7]\n",
      "Iteration: 700\n",
      "Accuracy: 0.9000243902439025\n",
      "[9 8 3 ... 7 8 7] [9 8 3 ... 5 8 7]\n",
      "Iteration: 710\n",
      "Accuracy: 0.900390243902439\n",
      "[9 8 3 ... 7 8 7] [9 8 3 ... 5 8 7]\n",
      "Iteration: 720\n",
      "Accuracy: 0.9007560975609756\n",
      "[9 8 3 ... 7 8 7] [9 8 3 ... 5 8 7]\n",
      "Iteration: 730\n",
      "Accuracy: 0.9009756097560976\n",
      "[9 8 3 ... 7 8 7] [9 8 3 ... 5 8 7]\n",
      "Iteration: 740\n",
      "Accuracy: 0.9013414634146342\n",
      "[9 8 3 ... 7 8 7] [9 8 3 ... 5 8 7]\n",
      "Iteration: 750\n",
      "Accuracy: 0.9018048780487805\n"
     ]
    }
   ],
   "source": [
    "W1, b1, W2, b2, acc = train(X_train , Y_train, 750, 0.2)"
   ]
  },
  {
   "cell_type": "markdown",
   "id": "9930f8c1",
   "metadata": {},
   "source": [
    "### Accuracy Curve for LR=0.2"
   ]
  },
  {
   "cell_type": "code",
   "execution_count": 33,
   "id": "263fed7f",
   "metadata": {},
   "outputs": [
    {
     "data": {
      "image/png": "[encoded data removed]",
      "text/plain": [
       "<Figure size 432x288 with 1 Axes>"
      ]
     },
     "metadata": {
      "needs_background": "light"
     },
     "output_type": "display_data"
    }
   ],
   "source": [
    "from matplotlib import pyplot as plt\n",
    "        \n",
    "iterations = np.arange(0,751,10)\n",
    "plt.plot(iterations, acc)\n",
    "plt.xlabel('Iterations')\n",
    "plt.ylabel('Training Accuracy')\n",
    "plt.title('Accuracy Curve')\n",
    "plt.show()"
   ]
  },
  {
   "cell_type": "markdown",
   "id": "7a1bcdcf",
   "metadata": {},
   "source": [
    "### Validation Set Accuracy"
   ]
  },
  {
   "cell_type": "code",
   "execution_count": 46,
   "id": "9e6e33f8",
   "metadata": {},
   "outputs": [
    {
     "name": "stdout",
     "output_type": "stream",
     "text": [
      "(10, 784) (10, 41000) (784, 1000)\n"
     ]
    },
    {
     "ename": "ValueError",
     "evalue": "operands could not be broadcast together with shapes (10,1000) (10,) ",
     "output_type": "error",
     "traceback": [
      "\u001b[0;31m---------------------------------------------------------------------------\u001b[0m",
      "\u001b[0;31mValueError\u001b[0m                                Traceback (most recent call last)",
      "\u001b[0;32m/var/folders/11/qj1v9m9n6159r0f8tzq4w1zc0000gn/T/ipykernel_36606/4043292459.py\u001b[0m in \u001b[0;36m<module>\u001b[0;34m\u001b[0m\n\u001b[1;32m      2\u001b[0m \u001b[0;34m\u001b[0m\u001b[0m\n\u001b[1;32m      3\u001b[0m \u001b[0mprint\u001b[0m\u001b[0;34m(\u001b[0m\u001b[0mW1\u001b[0m\u001b[0;34m.\u001b[0m\u001b[0mshape\u001b[0m\u001b[0;34m,\u001b[0m \u001b[0mb1\u001b[0m\u001b[0;34m.\u001b[0m\u001b[0mshape\u001b[0m\u001b[0;34m,\u001b[0m \u001b[0mX_dev\u001b[0m\u001b[0;34m.\u001b[0m\u001b[0mshape\u001b[0m\u001b[0;34m)\u001b[0m\u001b[0;34m\u001b[0m\u001b[0;34m\u001b[0m\u001b[0m\n\u001b[0;32m----> 4\u001b[0;31m \u001b[0m_\u001b[0m\u001b[0;34m,\u001b[0m \u001b[0m_\u001b[0m\u001b[0;34m,\u001b[0m \u001b[0m_\u001b[0m\u001b[0;34m,\u001b[0m \u001b[0mA2\u001b[0m \u001b[0;34m=\u001b[0m \u001b[0mforward_prop\u001b[0m\u001b[0;34m(\u001b[0m\u001b[0mW1\u001b[0m\u001b[0;34m,\u001b[0m \u001b[0mb1\u001b[0m\u001b[0;34m[\u001b[0m\u001b[0;34m:\u001b[0m\u001b[0;34m,\u001b[0m\u001b[0;36m1000\u001b[0m\u001b[0;34m]\u001b[0m\u001b[0;34m,\u001b[0m \u001b[0mW2\u001b[0m\u001b[0;34m,\u001b[0m \u001b[0mb2\u001b[0m\u001b[0;34m[\u001b[0m\u001b[0;34m:\u001b[0m\u001b[0;34m,\u001b[0m\u001b[0;36m1000\u001b[0m\u001b[0;34m]\u001b[0m\u001b[0;34m,\u001b[0m \u001b[0mX_dev\u001b[0m\u001b[0;34m)\u001b[0m\u001b[0;34m\u001b[0m\u001b[0;34m\u001b[0m\u001b[0m\n\u001b[0m\u001b[1;32m      5\u001b[0m \u001b[0mget_accuracy\u001b[0m\u001b[0;34m(\u001b[0m\u001b[0mmake_prediction\u001b[0m\u001b[0;34m(\u001b[0m\u001b[0mA2\u001b[0m\u001b[0;34m)\u001b[0m\u001b[0;34m,\u001b[0m \u001b[0mY_dev\u001b[0m\u001b[0;34m)\u001b[0m\u001b[0;34m\u001b[0m\u001b[0;34m\u001b[0m\u001b[0m\n",
      "\u001b[0;32m/var/folders/11/qj1v9m9n6159r0f8tzq4w1zc0000gn/T/ipykernel_36606/3544954987.py\u001b[0m in \u001b[0;36mforward_prop\u001b[0;34m(W1, b1, W2, b2, X)\u001b[0m\n\u001b[1;32m      1\u001b[0m \u001b[0;32mdef\u001b[0m \u001b[0mforward_prop\u001b[0m\u001b[0;34m(\u001b[0m\u001b[0mW1\u001b[0m\u001b[0;34m,\u001b[0m \u001b[0mb1\u001b[0m\u001b[0;34m,\u001b[0m \u001b[0mW2\u001b[0m\u001b[0;34m,\u001b[0m \u001b[0mb2\u001b[0m\u001b[0;34m,\u001b[0m \u001b[0mX\u001b[0m\u001b[0;34m)\u001b[0m\u001b[0;34m:\u001b[0m\u001b[0;34m\u001b[0m\u001b[0;34m\u001b[0m\u001b[0m\n\u001b[1;32m      2\u001b[0m \u001b[0;34m\u001b[0m\u001b[0m\n\u001b[0;32m----> 3\u001b[0;31m     \u001b[0mZ1\u001b[0m \u001b[0;34m=\u001b[0m \u001b[0mW1\u001b[0m\u001b[0;34m.\u001b[0m\u001b[0mdot\u001b[0m\u001b[0;34m(\u001b[0m\u001b[0mX\u001b[0m\u001b[0;34m)\u001b[0m \u001b[0;34m+\u001b[0m \u001b[0mb1\u001b[0m\u001b[0;34m\u001b[0m\u001b[0;34m\u001b[0m\u001b[0m\n\u001b[0m\u001b[1;32m      4\u001b[0m     \u001b[0mA1\u001b[0m \u001b[0;34m=\u001b[0m \u001b[0mReLu\u001b[0m\u001b[0;34m(\u001b[0m\u001b[0mZ1\u001b[0m\u001b[0;34m)\u001b[0m\u001b[0;34m\u001b[0m\u001b[0;34m\u001b[0m\u001b[0m\n\u001b[1;32m      5\u001b[0m \u001b[0;34m\u001b[0m\u001b[0m\n",
      "\u001b[0;31mValueError\u001b[0m: operands could not be broadcast together with shapes (10,1000) (10,) "
     ]
    }
   ],
   "source": [
    "X_dev = X_dev / 255\n",
    "\n",
    "print(W1.shape, b1.shape, X_dev.shape)\n",
    "_, _, _, A2 = forward_prop(W1, b1[:,1000], W2, b2[:,1000], X_dev)\n",
    "get_accuracy(make_prediction(A2), Y_dev)"
   ]
  },
  {
   "cell_type": "code",
   "execution_count": null,
   "id": "9c56ee1b",
   "metadata": {},
   "outputs": [],
   "source": []
  }
 ],
 "metadata": {
  "kernelspec": {
   "display_name": "Python 3 (ipykernel)",
   "language": "python",
   "name": "python3"
  },
  "language_info": {
   "codemirror_mode": {
    "name": "ipython",
    "version": 3
   },
   "file_extension": ".py",
   "mimetype": "text/x-python",
   "name": "python",
   "nbconvert_exporter": "python",
   "pygments_lexer": "ipython3",
   "version": "3.9.10"
  }
 },
 "nbformat": 4,
 "nbformat_minor": 5
}
