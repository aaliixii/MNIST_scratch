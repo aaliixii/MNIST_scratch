{
 "cells": [
  {
   "cell_type": "markdown",
   "id": "22945648",
   "metadata": {},
   "source": [
    "# Neural Network by scratch"
   ]
  },
  {
   "cell_type": "markdown",
   "id": "f541064a",
   "metadata": {},
   "source": [
    "### Importing Numpy and Pandas "
   ]
  },
  {
   "cell_type": "code",
   "execution_count": 1,
   "id": "2bb1eb51",
   "metadata": {},
   "outputs": [],
   "source": [
    "import numpy as np\n",
    "import pandas as pd\n",
    "from matplotlib import pyplot as plt"
   ]
  },
  {
   "cell_type": "markdown",
   "id": "ea795329",
   "metadata": {},
   "source": [
    "### Loading the Dataset as a Pandas Dataframe"
   ]
  },
  {
   "cell_type": "code",
   "execution_count": 2,
   "id": "27b9f880",
   "metadata": {},
   "outputs": [
    {
     "data": {
      "text/html": [
       "<div>\n",
       "<style scoped>\n",
       "    .dataframe tbody tr th:only-of-type {\n",
       "        vertical-align: middle;\n",
       "    }\n",
       "\n",
       "    .dataframe tbody tr th {\n",
       "        vertical-align: top;\n",
       "    }\n",
       "\n",
       "    .dataframe thead th {\n",
       "        text-align: right;\n",
       "    }\n",
       "</style>\n",
       "<table border=\"1\" class=\"dataframe\">\n",
       "  <thead>\n",
       "    <tr style=\"text-align: right;\">\n",
       "      <th></th>\n",
       "      <th>label</th>\n",
       "      <th>pixel0</th>\n",
       "      <th>pixel1</th>\n",
       "      <th>pixel2</th>\n",
       "      <th>pixel3</th>\n",
       "      <th>pixel4</th>\n",
       "      <th>pixel5</th>\n",
       "      <th>pixel6</th>\n",
       "      <th>pixel7</th>\n",
       "      <th>pixel8</th>\n",
       "      <th>...</th>\n",
       "      <th>pixel774</th>\n",
       "      <th>pixel775</th>\n",
       "      <th>pixel776</th>\n",
       "      <th>pixel777</th>\n",
       "      <th>pixel778</th>\n",
       "      <th>pixel779</th>\n",
       "      <th>pixel780</th>\n",
       "      <th>pixel781</th>\n",
       "      <th>pixel782</th>\n",
       "      <th>pixel783</th>\n",
       "    </tr>\n",
       "  </thead>\n",
       "  <tbody>\n",
       "    <tr>\n",
       "      <th>0</th>\n",
       "      <td>1</td>\n",
       "      <td>0</td>\n",
       "      <td>0</td>\n",
       "      <td>0</td>\n",
       "      <td>0</td>\n",
       "      <td>0</td>\n",
       "      <td>0</td>\n",
       "      <td>0</td>\n",
       "      <td>0</td>\n",
       "      <td>0</td>\n",
       "      <td>...</td>\n",
       "      <td>0</td>\n",
       "      <td>0</td>\n",
       "      <td>0</td>\n",
       "      <td>0</td>\n",
       "      <td>0</td>\n",
       "      <td>0</td>\n",
       "      <td>0</td>\n",
       "      <td>0</td>\n",
       "      <td>0</td>\n",
       "      <td>0</td>\n",
       "    </tr>\n",
       "    <tr>\n",
       "      <th>1</th>\n",
       "      <td>0</td>\n",
       "      <td>0</td>\n",
       "      <td>0</td>\n",
       "      <td>0</td>\n",
       "      <td>0</td>\n",
       "      <td>0</td>\n",
       "      <td>0</td>\n",
       "      <td>0</td>\n",
       "      <td>0</td>\n",
       "      <td>0</td>\n",
       "      <td>...</td>\n",
       "      <td>0</td>\n",
       "      <td>0</td>\n",
       "      <td>0</td>\n",
       "      <td>0</td>\n",
       "      <td>0</td>\n",
       "      <td>0</td>\n",
       "      <td>0</td>\n",
       "      <td>0</td>\n",
       "      <td>0</td>\n",
       "      <td>0</td>\n",
       "    </tr>\n",
       "    <tr>\n",
       "      <th>2</th>\n",
       "      <td>1</td>\n",
       "      <td>0</td>\n",
       "      <td>0</td>\n",
       "      <td>0</td>\n",
       "      <td>0</td>\n",
       "      <td>0</td>\n",
       "      <td>0</td>\n",
       "      <td>0</td>\n",
       "      <td>0</td>\n",
       "      <td>0</td>\n",
       "      <td>...</td>\n",
       "      <td>0</td>\n",
       "      <td>0</td>\n",
       "      <td>0</td>\n",
       "      <td>0</td>\n",
       "      <td>0</td>\n",
       "      <td>0</td>\n",
       "      <td>0</td>\n",
       "      <td>0</td>\n",
       "      <td>0</td>\n",
       "      <td>0</td>\n",
       "    </tr>\n",
       "    <tr>\n",
       "      <th>3</th>\n",
       "      <td>4</td>\n",
       "      <td>0</td>\n",
       "      <td>0</td>\n",
       "      <td>0</td>\n",
       "      <td>0</td>\n",
       "      <td>0</td>\n",
       "      <td>0</td>\n",
       "      <td>0</td>\n",
       "      <td>0</td>\n",
       "      <td>0</td>\n",
       "      <td>...</td>\n",
       "      <td>0</td>\n",
       "      <td>0</td>\n",
       "      <td>0</td>\n",
       "      <td>0</td>\n",
       "      <td>0</td>\n",
       "      <td>0</td>\n",
       "      <td>0</td>\n",
       "      <td>0</td>\n",
       "      <td>0</td>\n",
       "      <td>0</td>\n",
       "    </tr>\n",
       "    <tr>\n",
       "      <th>4</th>\n",
       "      <td>0</td>\n",
       "      <td>0</td>\n",
       "      <td>0</td>\n",
       "      <td>0</td>\n",
       "      <td>0</td>\n",
       "      <td>0</td>\n",
       "      <td>0</td>\n",
       "      <td>0</td>\n",
       "      <td>0</td>\n",
       "      <td>0</td>\n",
       "      <td>...</td>\n",
       "      <td>0</td>\n",
       "      <td>0</td>\n",
       "      <td>0</td>\n",
       "      <td>0</td>\n",
       "      <td>0</td>\n",
       "      <td>0</td>\n",
       "      <td>0</td>\n",
       "      <td>0</td>\n",
       "      <td>0</td>\n",
       "      <td>0</td>\n",
       "    </tr>\n",
       "  </tbody>\n",
       "</table>\n",
       "<p>5 rows × 785 columns</p>\n",
       "</div>"
      ],
      "text/plain": [
       "   label  pixel0  pixel1  pixel2  pixel3  pixel4  pixel5  pixel6  pixel7  \\\n",
       "0      1       0       0       0       0       0       0       0       0   \n",
       "1      0       0       0       0       0       0       0       0       0   \n",
       "2      1       0       0       0       0       0       0       0       0   \n",
       "3      4       0       0       0       0       0       0       0       0   \n",
       "4      0       0       0       0       0       0       0       0       0   \n",
       "\n",
       "   pixel8  ...  pixel774  pixel775  pixel776  pixel777  pixel778  pixel779  \\\n",
       "0       0  ...         0         0         0         0         0         0   \n",
       "1       0  ...         0         0         0         0         0         0   \n",
       "2       0  ...         0         0         0         0         0         0   \n",
       "3       0  ...         0         0         0         0         0         0   \n",
       "4       0  ...         0         0         0         0         0         0   \n",
       "\n",
       "   pixel780  pixel781  pixel782  pixel783  \n",
       "0         0         0         0         0  \n",
       "1         0         0         0         0  \n",
       "2         0         0         0         0  \n",
       "3         0         0         0         0  \n",
       "4         0         0         0         0  \n",
       "\n",
       "[5 rows x 785 columns]"
      ]
     },
     "execution_count": 2,
     "metadata": {},
     "output_type": "execute_result"
    }
   ],
   "source": [
    "data = pd.read_csv('train.csv')\n",
    "data.head(5)"
   ]
  },
  {
   "cell_type": "markdown",
   "id": "c208e5fa",
   "metadata": {},
   "source": [
    "### Train and Validation set split\n",
    "We need to first convert the dataframe into a numpy array and transpose it"
   ]
  },
  {
   "cell_type": "code",
   "execution_count": 3,
   "id": "048fb406",
   "metadata": {},
   "outputs": [
    {
     "name": "stdout",
     "output_type": "stream",
     "text": [
      "data.shape = (42000, 785)\n",
      "\n",
      "X_train.shape = (784, 41000)\n",
      "Y_train.shape = (41000,)\n"
     ]
    }
   ],
   "source": [
    "data = np.array(data)\n",
    "m , n = data.shape\n",
    "print(f'data.shape = {m,n}\\n')\n",
    "np.random.shuffle(data)\n",
    "\n",
    "data_dev = data[0:1000].T\n",
    "Y_dev = data_dev[0]\n",
    "X_dev = data_dev[1:1000]\n",
    "\n",
    "data_train = data[1000:m].T\n",
    "Y_train = data_train[0]\n",
    "X_train = data_train[1:m]\n",
    "\n",
    "X_train = X_train / 255\n",
    "print(f'X_train.shape = {X_train.shape}')\n",
    "print(f'Y_train.shape = {Y_train.shape}')"
   ]
  },
  {
   "cell_type": "code",
   "execution_count": 4,
   "id": "d26e65c7",
   "metadata": {},
   "outputs": [
    {
     "name": "stdout",
     "output_type": "stream",
     "text": [
      "X_dev.shape = (784, 1000)\n",
      "Y_dev.shape = (1000,)\n"
     ]
    }
   ],
   "source": [
    "print(f'X_dev.shape = {X_dev.shape}')\n",
    "print(f'Y_dev.shape = {Y_dev.shape}')"
   ]
  },
  {
   "cell_type": "markdown",
   "id": "3dc7dcac",
   "metadata": {},
   "source": [
    "### Initializing Parameters"
   ]
  },
  {
   "cell_type": "code",
   "execution_count": 5,
   "id": "8fbf58a1",
   "metadata": {},
   "outputs": [],
   "source": [
    "def init_params():\n",
    "\n",
    "    W1 = np.random.rand(10,784) - 0.5\n",
    "    b1 = np.random.rand(10,1) - 0.5\n",
    "    \n",
    "    W2 = np.random.rand(10,10) - 0.5\n",
    "    b2 = np.random.rand(10,1) - 0.5\n",
    "    \n",
    "    return W1, b1, W2, b2"
   ]
  },
  {
   "cell_type": "markdown",
   "id": "8dacd3ab",
   "metadata": {},
   "source": [
    "### ReLu Function"
   ]
  },
  {
   "cell_type": "code",
   "execution_count": 6,
   "id": "45fcca7d",
   "metadata": {},
   "outputs": [],
   "source": [
    "def ReLu(Z):\n",
    "    return np.maximum(Z,0)"
   ]
  },
  {
   "cell_type": "markdown",
   "id": "da311ebd",
   "metadata": {},
   "source": [
    "### Softmax Function"
   ]
  },
  {
   "cell_type": "code",
   "execution_count": 7,
   "id": "b388d1f3",
   "metadata": {},
   "outputs": [],
   "source": [
    "def softmax(Z):\n",
    "    return np.exp(Z)/np.sum(np.exp(Z), axis = 0)"
   ]
  },
  {
   "cell_type": "markdown",
   "id": "e578de40",
   "metadata": {},
   "source": [
    "### Forward Propagation"
   ]
  },
  {
   "cell_type": "code",
   "execution_count": 8,
   "id": "ecbe8997",
   "metadata": {},
   "outputs": [],
   "source": [
    "def forward_prop(W1, b1, W2, b2, X):\n",
    "    \n",
    "    Z1 = W1.dot(X) + b1\n",
    "    A1 = ReLu(Z1)\n",
    "    \n",
    "    Z2 = W2.dot(A1) + b2\n",
    "    A2 = softmax(Z2)\n",
    "    \n",
    "    return Z1, A1, Z2, A2"
   ]
  },
  {
   "cell_type": "markdown",
   "id": "c2b98bc9",
   "metadata": {},
   "source": [
    "### Derivative of ReLu"
   ]
  },
  {
   "cell_type": "code",
   "execution_count": 9,
   "id": "95a8940c",
   "metadata": {},
   "outputs": [],
   "source": [
    "def deriv_relu(Z):\n",
    "    return Z>0"
   ]
  },
  {
   "cell_type": "markdown",
   "id": "b1c682da",
   "metadata": {},
   "source": [
    "### One Hot Encoder Function"
   ]
  },
  {
   "cell_type": "code",
   "execution_count": 10,
   "id": "a6f9b280",
   "metadata": {},
   "outputs": [],
   "source": [
    "def one_hot(Y):\n",
    "    \n",
    "    one_hot_Y = np.zeros((Y.size, Y.max() + 1))\n",
    "    one_hot_Y[np.arange(Y.size), Y] = 1\n",
    "    one_hot_Y = one_hot_Y.T\n",
    "    \n",
    "    return one_hot_Y"
   ]
  },
  {
   "cell_type": "markdown",
   "id": "218b7fb3",
   "metadata": {},
   "source": [
    "### Backward Propagation"
   ]
  },
  {
   "cell_type": "code",
   "execution_count": 11,
   "id": "c35f680a",
   "metadata": {},
   "outputs": [],
   "source": [
    "def back_prop(Z1, A1, Z2, A2, W2, X, Y):\n",
    "\n",
    "    m = Y.shape[0]\n",
    "    \n",
    "    dZ2 = A2 - one_hot(Y)\n",
    "    dW2 = 1 / m * dZ2.dot(A1.T)\n",
    "    db2 = 1 / m * sum(dZ2)\n",
    "    \n",
    "    dZ1 = W2.T.dot(dZ2) * deriv_relu(Z1)\n",
    "    dW1 = 1 / m * dZ1.dot(X.T)\n",
    "    db1 = 1 / m * sum(dZ1)\n",
    "    \n",
    "    return dW1, db1, dW2, db2"
   ]
  },
  {
   "cell_type": "markdown",
   "id": "bd000d45",
   "metadata": {},
   "source": [
    "### Update Parameters"
   ]
  },
  {
   "cell_type": "code",
   "execution_count": 12,
   "id": "527dc2ea",
   "metadata": {},
   "outputs": [],
   "source": [
    "def update_params(W1, b1, W2, b2, dW1, db1, dW2, db2, alpha):\n",
    "\n",
    "    W1 = W1 - alpha * dW1\n",
    "    b1 = b1 - alpha * db1\n",
    "    W2 = W2 - alpha * dW2\n",
    "    b2 = b2 - alpha * db2\n",
    "    \n",
    "    return W1, b1, W2, b2"
   ]
  },
  {
   "cell_type": "markdown",
   "id": "7ca6f591",
   "metadata": {},
   "source": [
    "### Prediction and Accuracy functions"
   ]
  },
  {
   "cell_type": "code",
   "execution_count": 13,
   "id": "e83bdc01",
   "metadata": {},
   "outputs": [],
   "source": [
    "def make_prediction(A2):\n",
    "    return np.argmax(A2, 0)\n",
    "\n",
    "def get_accuracy(Y_hat, Y):\n",
    "#     print(Y_hat, Y)\n",
    "    return np.sum(Y_hat==Y)/Y.size"
   ]
  },
  {
   "cell_type": "markdown",
   "id": "e0af88d8",
   "metadata": {},
   "source": [
    "### Training Function"
   ]
  },
  {
   "cell_type": "code",
   "execution_count": 22,
   "id": "445b2b5e",
   "metadata": {},
   "outputs": [],
   "source": [
    "def train(X, Y, iterations, alpha,):\n",
    "    \n",
    "    W1, b1, W2, b2 = init_params()\n",
    "    \n",
    "    acc = []\n",
    "    for i in range(iterations+1):\n",
    "        Z1, A1, Z2, A2 = forward_prop(W1, b1, W2, b2, X)\n",
    "        dW1, db1, dW2, db2 = back_prop(Z1, A1, Z2, A2, W2, X, Y)\n",
    "        W1, b1, W2, b2 = update_params(W1, b1, W2, b2, dW1, db1, dW2, db2, alpha)\n",
    "        \n",
    "        if (i%10 == 0):\n",
    "            \n",
    "            a = get_accuracy(make_prediction(A2),Y)\n",
    "            acc.append(a)\n",
    "            \n",
    "            print(f'Iteration: {i}')\n",
    "            print(f'Accuracy: {a}')\n",
    "            \n",
    "#     print(f'LR: {alpha}')\n",
    "#     print(f'Max accuracy: {max(acc)}\\n')\n",
    "    \n",
    "    return W1, b1, W2, b2, acc"
   ]
  },
  {
   "cell_type": "markdown",
   "id": "745547e0",
   "metadata": {},
   "source": [
    "### LR Tuning"
   ]
  },
  {
   "cell_type": "code",
   "execution_count": 20,
   "id": "e8c4d882",
   "metadata": {},
   "outputs": [],
   "source": [
    "def LR_tuning(a1, a2):\n",
    "    lr = dict()\n",
    "    \n",
    "    for i in np.arange(a1, a2, 0.01):\n",
    "        \n",
    "        _,_,_,_,acc = train(X_train, Y_train, 500, i)\n",
    "        lr[i] = max(acc)\n",
    "        \n",
    "    return max(lr, key= lambda x: lr[x]) "
   ]
  },
  {
   "cell_type": "code",
   "execution_count": 21,
   "id": "bb9e03cc",
   "metadata": {},
   "outputs": [
    {
     "name": "stdout",
     "output_type": "stream",
     "text": [
      "LR: 0.17\n",
      "Max accuracy: 0.8632926829268293\n",
      "\n",
      "LR: 0.18000000000000002\n",
      "Max accuracy: 0.8771951219512195\n",
      "\n",
      "LR: 0.19000000000000003\n",
      "Max accuracy: 0.859780487804878\n",
      "\n",
      "LR: 0.20000000000000004\n",
      "Max accuracy: 0.8691463414634146\n",
      "\n",
      "LR: 0.21000000000000005\n",
      "Max accuracy: 0.8814878048780488\n",
      "\n",
      "LR: 0.22000000000000006\n",
      "Max accuracy: 0.8805365853658537\n",
      "\n",
      "LR: 0.23000000000000007\n",
      "Max accuracy: 0.891390243902439\n",
      "\n",
      "Best Learning Rate: 0.23000000000000007\n"
     ]
    }
   ],
   "source": [
    "print(f'Best Learning Rate: {LR_tuning(0.17,0.24)}')"
   ]
  },
  {
   "cell_type": "markdown",
   "id": "e05f1c42",
   "metadata": {},
   "source": [
    "### Using the best value for Learning Rate, we now train the model"
   ]
  },
  {
   "cell_type": "code",
   "execution_count": 23,
   "id": "576b65b6",
   "metadata": {
    "scrolled": true
   },
   "outputs": [
    {
     "name": "stdout",
     "output_type": "stream",
     "text": [
      "Iteration: 0\n",
      "Accuracy: 0.08041463414634147\n",
      "Iteration: 10\n",
      "Accuracy: 0.28304878048780485\n",
      "Iteration: 20\n",
      "Accuracy: 0.4571707317073171\n",
      "Iteration: 30\n",
      "Accuracy: 0.5580975609756098\n",
      "Iteration: 40\n",
      "Accuracy: 0.6230975609756098\n",
      "Iteration: 50\n",
      "Accuracy: 0.6718536585365854\n",
      "Iteration: 60\n",
      "Accuracy: 0.7057317073170731\n",
      "Iteration: 70\n",
      "Accuracy: 0.7309024390243902\n",
      "Iteration: 80\n",
      "Accuracy: 0.7404390243902439\n",
      "Iteration: 90\n",
      "Accuracy: 0.7259756097560975\n",
      "Iteration: 100\n",
      "Accuracy: 0.7449268292682927\n",
      "Iteration: 110\n",
      "Accuracy: 0.7604390243902439\n",
      "Iteration: 120\n",
      "Accuracy: 0.772\n",
      "Iteration: 130\n",
      "Accuracy: 0.7814878048780488\n",
      "Iteration: 140\n",
      "Accuracy: 0.7913658536585366\n",
      "Iteration: 150\n",
      "Accuracy: 0.799609756097561\n",
      "Iteration: 160\n",
      "Accuracy: 0.8070731707317074\n",
      "Iteration: 170\n",
      "Accuracy: 0.8137560975609756\n",
      "Iteration: 180\n",
      "Accuracy: 0.8192926829268292\n",
      "Iteration: 190\n",
      "Accuracy: 0.8253414634146341\n",
      "Iteration: 200\n",
      "Accuracy: 0.8302682926829268\n",
      "Iteration: 210\n",
      "Accuracy: 0.8344390243902439\n",
      "Iteration: 220\n",
      "Accuracy: 0.8386097560975609\n",
      "Iteration: 230\n",
      "Accuracy: 0.841780487804878\n",
      "Iteration: 240\n",
      "Accuracy: 0.845170731707317\n",
      "Iteration: 250\n",
      "Accuracy: 0.8478536585365853\n",
      "Iteration: 260\n",
      "Accuracy: 0.8511463414634146\n",
      "Iteration: 270\n",
      "Accuracy: 0.8539756097560975\n",
      "Iteration: 280\n",
      "Accuracy: 0.8553414634146341\n",
      "Iteration: 290\n",
      "Accuracy: 0.8573170731707317\n",
      "Iteration: 300\n",
      "Accuracy: 0.8590731707317073\n",
      "Iteration: 310\n",
      "Accuracy: 0.8610975609756097\n",
      "Iteration: 320\n",
      "Accuracy: 0.8630731707317073\n",
      "Iteration: 330\n",
      "Accuracy: 0.8647073170731707\n",
      "Iteration: 340\n",
      "Accuracy: 0.8665365853658537\n",
      "Iteration: 350\n",
      "Accuracy: 0.8681951219512195\n",
      "Iteration: 360\n",
      "Accuracy: 0.8694634146341463\n",
      "Iteration: 370\n",
      "Accuracy: 0.8709512195121951\n",
      "Iteration: 380\n",
      "Accuracy: 0.8721707317073171\n",
      "Iteration: 390\n",
      "Accuracy: 0.8732439024390244\n",
      "Iteration: 400\n",
      "Accuracy: 0.8741707317073171\n",
      "Iteration: 410\n",
      "Accuracy: 0.8750731707317073\n",
      "Iteration: 420\n",
      "Accuracy: 0.8762682926829268\n",
      "Iteration: 430\n",
      "Accuracy: 0.8772439024390244\n",
      "Iteration: 440\n",
      "Accuracy: 0.878\n",
      "Iteration: 450\n",
      "Accuracy: 0.8788780487804878\n",
      "Iteration: 460\n",
      "Accuracy: 0.8799512195121951\n",
      "Iteration: 470\n",
      "Accuracy: 0.880780487804878\n",
      "Iteration: 480\n",
      "Accuracy: 0.8813658536585366\n",
      "Iteration: 490\n",
      "Accuracy: 0.8820487804878049\n",
      "Iteration: 500\n",
      "Accuracy: 0.8826585365853659\n",
      "Iteration: 510\n",
      "Accuracy: 0.883390243902439\n",
      "Iteration: 520\n",
      "Accuracy: 0.8841463414634146\n",
      "Iteration: 530\n",
      "Accuracy: 0.8850487804878049\n",
      "Iteration: 540\n",
      "Accuracy: 0.8857804878048781\n",
      "Iteration: 550\n",
      "Accuracy: 0.886390243902439\n",
      "Iteration: 560\n",
      "Accuracy: 0.8869268292682927\n",
      "Iteration: 570\n",
      "Accuracy: 0.8874878048780488\n",
      "Iteration: 580\n",
      "Accuracy: 0.8883170731707317\n",
      "Iteration: 590\n",
      "Accuracy: 0.8890243902439025\n",
      "Iteration: 600\n",
      "Accuracy: 0.8895365853658537\n",
      "Iteration: 610\n",
      "Accuracy: 0.8900975609756098\n",
      "Iteration: 620\n",
      "Accuracy: 0.8905853658536586\n",
      "Iteration: 630\n",
      "Accuracy: 0.8911951219512195\n",
      "Iteration: 640\n",
      "Accuracy: 0.8915853658536586\n",
      "Iteration: 650\n",
      "Accuracy: 0.8921219512195122\n",
      "Iteration: 660\n",
      "Accuracy: 0.8923170731707317\n",
      "Iteration: 670\n",
      "Accuracy: 0.892609756097561\n",
      "Iteration: 680\n",
      "Accuracy: 0.8933170731707317\n",
      "Iteration: 690\n",
      "Accuracy: 0.8935365853658537\n",
      "Iteration: 700\n",
      "Accuracy: 0.8939756097560976\n",
      "Iteration: 710\n",
      "Accuracy: 0.8942682926829268\n",
      "Iteration: 720\n",
      "Accuracy: 0.8945853658536586\n",
      "Iteration: 730\n",
      "Accuracy: 0.8950487804878049\n",
      "Iteration: 740\n",
      "Accuracy: 0.8952439024390244\n",
      "Iteration: 750\n",
      "Accuracy: 0.8956341463414634\n"
     ]
    }
   ],
   "source": [
    "W1, b1, W2, b2, acc = train(X_train , Y_train, 750, 0.23)"
   ]
  },
  {
   "cell_type": "markdown",
   "id": "182c37ad",
   "metadata": {},
   "source": [
    "### Accuracy Curve for LR=0.23"
   ]
  },
  {
   "cell_type": "code",
   "execution_count": 24,
   "id": "27f5bca5",
   "metadata": {},
   "outputs": [
    {
     "data": {
      "image/png": "[encoded data removed]",
      "text/plain": [
       "<Figure size 432x288 with 1 Axes>"
      ]
     },
     "metadata": {
      "needs_background": "light"
     },
     "output_type": "display_data"
    }
   ],
   "source": [
    "iterations = np.arange(0,751,10)\n",
    "plt.plot(iterations, acc)\n",
    "plt.xlabel('Iterations')\n",
    "plt.ylabel('Training Accuracy')\n",
    "plt.title('Accuracy Curve')\n",
    "plt.show()"
   ]
  },
  {
   "cell_type": "markdown",
   "id": "6f80f886",
   "metadata": {},
   "source": [
    "We get ~90% accuracy on the training set"
   ]
  },
  {
   "cell_type": "markdown",
   "id": "9cc684d0",
   "metadata": {},
   "source": [
    "### Visualising the output"
   ]
  },
  {
   "cell_type": "code",
   "execution_count": 27,
   "id": "a46c07d0",
   "metadata": {},
   "outputs": [],
   "source": [
    "def make_predictions(X, W1, b1, W2, b2):\n",
    "    _, _, _, A2 = forward_prop(W1, b1, W2, b2, X)\n",
    "    predictions = make_prediction(A2)\n",
    "    return predictions\n",
    "\n",
    "def test_prediction(index, W1, b1, W2, b2):\n",
    "    current_image = X_train[:, index, None]\n",
    "    prediction = make_predictions(X_train[:, index, None], W1, b1, W2, b2)\n",
    "    label = Y_train[index]\n",
    "    print(\"Prediction: \", prediction[0])\n",
    "    print(\"Label: \", label)\n",
    "    \n",
    "    current_image = current_image.reshape((28, 28)) * 255\n",
    "    plt.gray()\n",
    "    plt.imshow(current_image, interpolation='nearest')\n",
    "    plt.show()\n"
   ]
  },
  {
   "cell_type": "code",
   "execution_count": 28,
   "id": "508088df",
   "metadata": {},
   "outputs": [
    {
     "name": "stdout",
     "output_type": "stream",
     "text": [
      "Prediction:  9\n",
      "Label:  9\n"
     ]
    },
    {
     "data": {
      "image/png": "[encoded data removed]",
      "text/plain": [
       "<Figure size 432x288 with 1 Axes>"
      ]
     },
     "metadata": {
      "needs_background": "light"
     },
     "output_type": "display_data"
    }
   ],
   "source": [
    "test_prediction(0, W1, b1, W2, b2)"
   ]
  },
  {
   "cell_type": "code",
   "execution_count": 29,
   "id": "5320aa79",
   "metadata": {},
   "outputs": [
    {
     "name": "stdout",
     "output_type": "stream",
     "text": [
      "Prediction:  3\n",
      "Label:  3\n"
     ]
    },
    {
     "data": {
      "image/png": "[encoded data removed]",
      "text/plain": [
       "<Figure size 432x288 with 1 Axes>"
      ]
     },
     "metadata": {
      "needs_background": "light"
     },
     "output_type": "display_data"
    },
    {
     "name": "stdout",
     "output_type": "stream",
     "text": [
      "Prediction:  3\n",
      "Label:  3\n"
     ]
    },
    {
     "data": {
      "image/png": "[encoded data removed]",
      "text/plain": [
       "<Figure size 432x288 with 1 Axes>"
      ]
     },
     "metadata": {
      "needs_background": "light"
     },
     "output_type": "display_data"
    },
    {
     "name": "stdout",
     "output_type": "stream",
     "text": [
      "Prediction:  2\n",
      "Label:  7\n"
     ]
    },
    {
     "data": {
      "image/png": "[encoded data removed]",
      "text/plain": [
       "<Figure size 432x288 with 1 Axes>"
      ]
     },
     "metadata": {
      "needs_background": "light"
     },
     "output_type": "display_data"
    }
   ],
   "source": [
    "test_prediction(1, W1, b1, W2, b2)\n",
    "test_prediction(2, W1, b1, W2, b2)\n",
    "test_prediction(3, W1, b1, W2, b2)"
   ]
  },
  {
   "cell_type": "code",
   "execution_count": 31,
   "id": "09a7e28c",
   "metadata": {},
   "outputs": [
    {
     "ename": "ValueError",
     "evalue": "operands could not be broadcast together with shapes (10,1000) (10,) ",
     "output_type": "error",
     "traceback": [
      "\u001b[0;31m---------------------------------------------------------------------------\u001b[0m",
      "\u001b[0;31mValueError\u001b[0m                                Traceback (most recent call last)",
      "\u001b[0;32m/var/folders/11/qj1v9m9n6159r0f8tzq4w1zc0000gn/T/ipykernel_51222/2936754513.py\u001b[0m in \u001b[0;36m<module>\u001b[0;34m\u001b[0m\n\u001b[0;32m----> 1\u001b[0;31m \u001b[0mdev_predictions\u001b[0m \u001b[0;34m=\u001b[0m \u001b[0mmake_predictions\u001b[0m\u001b[0;34m(\u001b[0m\u001b[0mX_dev\u001b[0m\u001b[0;34m,\u001b[0m \u001b[0mW1\u001b[0m\u001b[0;34m,\u001b[0m \u001b[0mb1\u001b[0m\u001b[0;34m[\u001b[0m\u001b[0;34m:\u001b[0m\u001b[0;34m,\u001b[0m\u001b[0;36m1000\u001b[0m\u001b[0;34m]\u001b[0m\u001b[0;34m,\u001b[0m \u001b[0mW2\u001b[0m\u001b[0;34m,\u001b[0m \u001b[0mb2\u001b[0m\u001b[0;34m)\u001b[0m\u001b[0;34m\u001b[0m\u001b[0;34m\u001b[0m\u001b[0m\n\u001b[0m\u001b[1;32m      2\u001b[0m \u001b[0mget_accuracy\u001b[0m\u001b[0;34m(\u001b[0m\u001b[0mdev_predictions\u001b[0m\u001b[0;34m,\u001b[0m \u001b[0mY_dev\u001b[0m\u001b[0;34m)\u001b[0m\u001b[0;34m\u001b[0m\u001b[0;34m\u001b[0m\u001b[0m\n",
      "\u001b[0;32m/var/folders/11/qj1v9m9n6159r0f8tzq4w1zc0000gn/T/ipykernel_51222/3260043201.py\u001b[0m in \u001b[0;36mmake_predictions\u001b[0;34m(X, W1, b1, W2, b2)\u001b[0m\n\u001b[1;32m      1\u001b[0m \u001b[0;32mdef\u001b[0m \u001b[0mmake_predictions\u001b[0m\u001b[0;34m(\u001b[0m\u001b[0mX\u001b[0m\u001b[0;34m,\u001b[0m \u001b[0mW1\u001b[0m\u001b[0;34m,\u001b[0m \u001b[0mb1\u001b[0m\u001b[0;34m,\u001b[0m \u001b[0mW2\u001b[0m\u001b[0;34m,\u001b[0m \u001b[0mb2\u001b[0m\u001b[0;34m)\u001b[0m\u001b[0;34m:\u001b[0m\u001b[0;34m\u001b[0m\u001b[0;34m\u001b[0m\u001b[0m\n\u001b[0;32m----> 2\u001b[0;31m     \u001b[0m_\u001b[0m\u001b[0;34m,\u001b[0m \u001b[0m_\u001b[0m\u001b[0;34m,\u001b[0m \u001b[0m_\u001b[0m\u001b[0;34m,\u001b[0m \u001b[0mA2\u001b[0m \u001b[0;34m=\u001b[0m \u001b[0mforward_prop\u001b[0m\u001b[0;34m(\u001b[0m\u001b[0mW1\u001b[0m\u001b[0;34m,\u001b[0m \u001b[0mb1\u001b[0m\u001b[0;34m,\u001b[0m \u001b[0mW2\u001b[0m\u001b[0;34m,\u001b[0m \u001b[0mb2\u001b[0m\u001b[0;34m,\u001b[0m \u001b[0mX\u001b[0m\u001b[0;34m)\u001b[0m\u001b[0;34m\u001b[0m\u001b[0;34m\u001b[0m\u001b[0m\n\u001b[0m\u001b[1;32m      3\u001b[0m     \u001b[0mpredictions\u001b[0m \u001b[0;34m=\u001b[0m \u001b[0mmake_prediction\u001b[0m\u001b[0;34m(\u001b[0m\u001b[0mA2\u001b[0m\u001b[0;34m)\u001b[0m\u001b[0;34m\u001b[0m\u001b[0;34m\u001b[0m\u001b[0m\n\u001b[1;32m      4\u001b[0m     \u001b[0;32mreturn\u001b[0m \u001b[0mpredictions\u001b[0m\u001b[0;34m\u001b[0m\u001b[0;34m\u001b[0m\u001b[0m\n\u001b[1;32m      5\u001b[0m \u001b[0;34m\u001b[0m\u001b[0m\n",
      "\u001b[0;32m/var/folders/11/qj1v9m9n6159r0f8tzq4w1zc0000gn/T/ipykernel_51222/3544954987.py\u001b[0m in \u001b[0;36mforward_prop\u001b[0;34m(W1, b1, W2, b2, X)\u001b[0m\n\u001b[1;32m      1\u001b[0m \u001b[0;32mdef\u001b[0m \u001b[0mforward_prop\u001b[0m\u001b[0;34m(\u001b[0m\u001b[0mW1\u001b[0m\u001b[0;34m,\u001b[0m \u001b[0mb1\u001b[0m\u001b[0;34m,\u001b[0m \u001b[0mW2\u001b[0m\u001b[0;34m,\u001b[0m \u001b[0mb2\u001b[0m\u001b[0;34m,\u001b[0m \u001b[0mX\u001b[0m\u001b[0;34m)\u001b[0m\u001b[0;34m:\u001b[0m\u001b[0;34m\u001b[0m\u001b[0;34m\u001b[0m\u001b[0m\n\u001b[1;32m      2\u001b[0m \u001b[0;34m\u001b[0m\u001b[0m\n\u001b[0;32m----> 3\u001b[0;31m     \u001b[0mZ1\u001b[0m \u001b[0;34m=\u001b[0m \u001b[0mW1\u001b[0m\u001b[0;34m.\u001b[0m\u001b[0mdot\u001b[0m\u001b[0;34m(\u001b[0m\u001b[0mX\u001b[0m\u001b[0;34m)\u001b[0m \u001b[0;34m+\u001b[0m \u001b[0mb1\u001b[0m\u001b[0;34m\u001b[0m\u001b[0;34m\u001b[0m\u001b[0m\n\u001b[0m\u001b[1;32m      4\u001b[0m     \u001b[0mA1\u001b[0m \u001b[0;34m=\u001b[0m \u001b[0mReLu\u001b[0m\u001b[0;34m(\u001b[0m\u001b[0mZ1\u001b[0m\u001b[0;34m)\u001b[0m\u001b[0;34m\u001b[0m\u001b[0;34m\u001b[0m\u001b[0m\n\u001b[1;32m      5\u001b[0m \u001b[0;34m\u001b[0m\u001b[0m\n",
      "\u001b[0;31mValueError\u001b[0m: operands could not be broadcast together with shapes (10,1000) (10,) "
     ]
    }
   ],
   "source": [
    "dev_predictions = make_predictions(X_dev, W1, b1[:,1000], W2, b2)\n",
    "get_accuracy(dev_predictions, Y_dev)"
   ]
  },
  {
   "cell_type": "code",
   "execution_count": null,
   "id": "b399fbef",
   "metadata": {},
   "outputs": [],
   "source": []
  }
 ],
 "metadata": {
  "kernelspec": {
   "display_name": "Python 3 (ipykernel)",
   "language": "python",
   "name": "python3"
  },
  "language_info": {
   "codemirror_mode": {
    "name": "ipython",
    "version": 3
   },
   "file_extension": ".py",
   "mimetype": "text/x-python",
   "name": "python",
   "nbconvert_exporter": "python",
   "pygments_lexer": "ipython3",
   "version": "3.9.10"
  }
 },
 "nbformat": 4,
 "nbformat_minor": 5
}
